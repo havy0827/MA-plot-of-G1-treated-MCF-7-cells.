{
 "cells": [
  {
   "cell_type": "markdown",
   "id": "981540d8-15c7-4345-9d4d-af40216185d1",
   "metadata": {},
   "source": [
    "Research article: https://www.sciencedirect.com/science/article/pii/S2352340922001597  \n",
    "Data: https://www.ncbi.nlm.nih.gov/geo/query/acc.cgi?acc=GSE18870\n",
    "Nội dung: Phân tích MA-plot từ dữ liệu RNA-seq của tế bào ung thư vú MCF-7 điều trị bằng G1, một tác nhân kích hoạt receptor estrogen liên kết protein G (GPER).  \n",
    "Mục tiêu của phân tích là so sánh sự thay đổi biểu hiện gene giữa nhóm treat (điều trị) và control (đối chứng), giúp nhận diện các gene thay đổi biểu hiện giữa các nhóm, từ đó chỉ ra các biến thể gene tiềm năng để nghiên cứu thêm về tác động của GPER trong ung thư vú."
   ]
  },
  {
   "cell_type": "markdown",
   "id": "bd01de4e-8a14-4e3f-af7d-6feb83326aec",
   "metadata": {},
   "source": [
    "Thêm các thư viện cân thiết"
   ]
  },
  {
   "cell_type": "code",
   "execution_count": 10,
   "id": "2e71bf2f-44ef-4fd2-b5f4-7b14297c01f2",
   "metadata": {},
   "outputs": [],
   "source": [
    "import pandas as pd\n",
    "import numpy as np\n",
    "import seaborn as sns\n",
    "import matplotlib.pyplot as plt\n",
    "from matplotlib import cm\n",
    "from scipy import stats"
   ]
  },
  {
   "cell_type": "markdown",
   "id": "1dc17217-acd0-4780-948f-b4089d66f09c",
   "metadata": {},
   "source": [
    "Tạo môi trường để dùng R trong Jupyter Notebook"
   ]
  },
  {
   "cell_type": "code",
   "execution_count": 56,
   "id": "102d3de5-9bc4-4fb4-bfd2-1589fe69fea3",
   "metadata": {},
   "outputs": [
    {
     "name": "stdout",
     "output_type": "stream",
     "text": [
      "The rpy2.ipython extension is already loaded. To reload it, use:\n",
      "  %reload_ext rpy2.ipython\n"
     ]
    }
   ],
   "source": [
    "import re\n",
    "import os \n",
    "os.environ['R_HOME'] =r\"C:\\Program Files\\R\\R-4.5.1\"\n",
    "os.environ['PATH'] += r\" ;C:\\Program Files\\R\\R-4.5.1\\bin\"\n",
    "import rpy2\n",
    "%load_ext rpy2.ipython"
   ]
  },
  {
   "cell_type": "markdown",
   "id": "584eca00-651d-4dea-8437-1ee4d296b3e3",
   "metadata": {},
   "source": [
    "Chỉnh chất lượng hình ảnh bằng matplotlib "
   ]
  },
  {
   "cell_type": "code",
   "execution_count": 99,
   "id": "490a024d-32a0-4bf9-a706-70446596b883",
   "metadata": {},
   "outputs": [],
   "source": [
    "import matplotlib as mpl \n",
    "mpl.rcParams['figure.dpi'] =300\n",
    "def output_figure(n):\n",
    "    plt.savefig(f'figure_output/{n}.svg', dpi =300, bbox_inches ='tight')"
   ]
  },
  {
   "cell_type": "markdown",
   "id": "e7bc327a-0106-46f3-9622-fad8429aea2e",
   "metadata": {},
   "source": [
    "Đưa dữ liệu gene counts từ file Excel vào DataFrame"
   ]
  },
  {
   "cell_type": "code",
   "execution_count": 58,
   "id": "46c2a25f-b318-4419-9b8f-e166bceb18d7",
   "metadata": {},
   "outputs": [
    {
     "data": {
      "text/html": [
       "<div>\n",
       "<style scoped>\n",
       "    .dataframe tbody tr th:only-of-type {\n",
       "        vertical-align: middle;\n",
       "    }\n",
       "\n",
       "    .dataframe tbody tr th {\n",
       "        vertical-align: top;\n",
       "    }\n",
       "\n",
       "    .dataframe thead th {\n",
       "        text-align: right;\n",
       "    }\n",
       "</style>\n",
       "<table border=\"1\" class=\"dataframe\">\n",
       "  <thead>\n",
       "    <tr style=\"text-align: right;\">\n",
       "      <th></th>\n",
       "      <th>Geneid</th>\n",
       "      <th>MC72_1</th>\n",
       "      <th>MC72_2</th>\n",
       "      <th>MC72_5</th>\n",
       "      <th>MEL72_2</th>\n",
       "      <th>MEL72_4</th>\n",
       "      <th>MEL72_5</th>\n",
       "    </tr>\n",
       "  </thead>\n",
       "  <tbody>\n",
       "    <tr>\n",
       "      <th>0</th>\n",
       "      <td>ENSG00000223972</td>\n",
       "      <td>6</td>\n",
       "      <td>2</td>\n",
       "      <td>8</td>\n",
       "      <td>15</td>\n",
       "      <td>8</td>\n",
       "      <td>5</td>\n",
       "    </tr>\n",
       "    <tr>\n",
       "      <th>1</th>\n",
       "      <td>ENSG00000227232</td>\n",
       "      <td>60</td>\n",
       "      <td>32</td>\n",
       "      <td>35</td>\n",
       "      <td>44</td>\n",
       "      <td>33</td>\n",
       "      <td>39</td>\n",
       "    </tr>\n",
       "    <tr>\n",
       "      <th>2</th>\n",
       "      <td>ENSG00000278267</td>\n",
       "      <td>6</td>\n",
       "      <td>4</td>\n",
       "      <td>2</td>\n",
       "      <td>4</td>\n",
       "      <td>4</td>\n",
       "      <td>4</td>\n",
       "    </tr>\n",
       "    <tr>\n",
       "      <th>3</th>\n",
       "      <td>ENSG00000243485</td>\n",
       "      <td>0</td>\n",
       "      <td>0</td>\n",
       "      <td>0</td>\n",
       "      <td>4</td>\n",
       "      <td>0</td>\n",
       "      <td>1</td>\n",
       "    </tr>\n",
       "    <tr>\n",
       "      <th>4</th>\n",
       "      <td>ENSG00000284332</td>\n",
       "      <td>0</td>\n",
       "      <td>0</td>\n",
       "      <td>0</td>\n",
       "      <td>0</td>\n",
       "      <td>0</td>\n",
       "      <td>0</td>\n",
       "    </tr>\n",
       "    <tr>\n",
       "      <th>...</th>\n",
       "      <td>...</td>\n",
       "      <td>...</td>\n",
       "      <td>...</td>\n",
       "      <td>...</td>\n",
       "      <td>...</td>\n",
       "      <td>...</td>\n",
       "      <td>...</td>\n",
       "    </tr>\n",
       "    <tr>\n",
       "      <th>58730</th>\n",
       "      <td>ENSG00000271254</td>\n",
       "      <td>249</td>\n",
       "      <td>116</td>\n",
       "      <td>181</td>\n",
       "      <td>221</td>\n",
       "      <td>102</td>\n",
       "      <td>230</td>\n",
       "    </tr>\n",
       "    <tr>\n",
       "      <th>58731</th>\n",
       "      <td>ENSG00000275405</td>\n",
       "      <td>2</td>\n",
       "      <td>0</td>\n",
       "      <td>1</td>\n",
       "      <td>0</td>\n",
       "      <td>0</td>\n",
       "      <td>0</td>\n",
       "    </tr>\n",
       "    <tr>\n",
       "      <th>58732</th>\n",
       "      <td>ENSG00000275987</td>\n",
       "      <td>0</td>\n",
       "      <td>0</td>\n",
       "      <td>0</td>\n",
       "      <td>0</td>\n",
       "      <td>0</td>\n",
       "      <td>0</td>\n",
       "    </tr>\n",
       "    <tr>\n",
       "      <th>58733</th>\n",
       "      <td>ENSG00000277475</td>\n",
       "      <td>0</td>\n",
       "      <td>0</td>\n",
       "      <td>0</td>\n",
       "      <td>2</td>\n",
       "      <td>0</td>\n",
       "      <td>1</td>\n",
       "    </tr>\n",
       "    <tr>\n",
       "      <th>58734</th>\n",
       "      <td>ENSG00000268674</td>\n",
       "      <td>0</td>\n",
       "      <td>0</td>\n",
       "      <td>0</td>\n",
       "      <td>0</td>\n",
       "      <td>0</td>\n",
       "      <td>0</td>\n",
       "    </tr>\n",
       "  </tbody>\n",
       "</table>\n",
       "<p>58735 rows × 7 columns</p>\n",
       "</div>"
      ],
      "text/plain": [
       "                Geneid  MC72_1  MC72_2  MC72_5  MEL72_2  MEL72_4  MEL72_5\n",
       "0      ENSG00000223972       6       2       8       15        8        5\n",
       "1      ENSG00000227232      60      32      35       44       33       39\n",
       "2      ENSG00000278267       6       4       2        4        4        4\n",
       "3      ENSG00000243485       0       0       0        4        0        1\n",
       "4      ENSG00000284332       0       0       0        0        0        0\n",
       "...                ...     ...     ...     ...      ...      ...      ...\n",
       "58730  ENSG00000271254     249     116     181      221      102      230\n",
       "58731  ENSG00000275405       2       0       1        0        0        0\n",
       "58732  ENSG00000275987       0       0       0        0        0        0\n",
       "58733  ENSG00000277475       0       0       0        2        0        1\n",
       "58734  ENSG00000268674       0       0       0        0        0        0\n",
       "\n",
       "[58735 rows x 7 columns]"
      ]
     },
     "execution_count": 58,
     "metadata": {},
     "output_type": "execute_result"
    }
   ],
   "source": [
    "data = pd.read_excel(r\"C:\\Users\\HP\\Downloads\\GSE216876_Raw_gene_counts_matrix_enterolactone_DMSO.xlsx\")\n",
    "data\n",
    "            "
   ]
  },
  {
   "cell_type": "markdown",
   "id": "5eb200f9-c4cf-4da3-bf06-4008f40c8220",
   "metadata": {},
   "source": [
    " Thiết lập thư mục cài đặt package R và nạp thư viện DESeq2 để dùng cho phân tích biểu hiện khác biệt"
   ]
  },
  {
   "cell_type": "code",
   "execution_count": 59,
   "id": "d3bbe54f-8498-49a2-94c8-f8dbc8d53747",
   "metadata": {},
   "outputs": [
    {
     "data": {
      "text/plain": [
       "'getOption(\"repos\")' replaces Bioconductor standard repositories, see\n",
       "'help(\"repositories\", package = \"BiocManager\")' for details.\n",
       "Replacement repositories:\n",
       "    CRAN: https://mirror.chpc.utah.edu/pub/cran\n",
       "Bioconductor version 3.21 (BiocManager 1.30.26), R 4.5.1 (2025-06-13 ucrt)\n",
       "Installing package(s) 'DESeq2'\n",
       "Warning: package 'DESeq2' is in use and will not be installed\n"
      ]
     },
     "metadata": {},
     "output_type": "display_data"
    }
   ],
   "source": [
    "%%R\n",
    "lib_path <- Sys.getenv(\"R_LIBS_USER\")\n",
    "if (!dir.exists(lib_path)) dir.create(lib_path, recursive = TRUE)\n",
    ".libPaths(lib_path)\n",
    "\n",
    "if (!requireNamespace(\"BiocManager\", quietly = TRUE))\n",
    "    install.packages(\"BiocManager\", lib = lib_path)\n",
    "\n",
    "BiocManager::install(\"DESeq2\", lib = lib_path, update = FALSE, ask = FALSE)\n",
    "\n",
    "library(DESeq2)"
   ]
  },
  {
   "cell_type": "code",
   "execution_count": null,
   "id": "605e044a-d31d-4203-afbc-7baf7713a956",
   "metadata": {},
   "outputs": [],
   "source": [
    "Khai báo tên sample và tạo vector điều kiện thi nghiệm: ctrl : đối chứng, treat = xử lý"
   ]
  },
  {
   "cell_type": "code",
   "execution_count": 60,
   "id": "864609fc-80da-4a31-86d2-95bd4a07e65f",
   "metadata": {},
   "outputs": [
    {
     "name": "stdout",
     "output_type": "stream",
     "text": [
      "        condition\n",
      "MC72_1       ctrl\n",
      "MC72_2       ctrl\n",
      "MC72_5       ctrl\n",
      "MEL72_2     treat\n",
      "MEL72_4     treat\n",
      "MEL72_5     treat\n"
     ]
    }
   ],
   "source": [
    "%%R\n",
    "sample_names <- c(\"MC72_1\",\"MC72_2\", \"MC72_5\", \"MEL72_2\", \"MEL72_4\",\"MEL72_5\")\n",
    "condition <- c(\"ctrl\",\"ctrl\",\"ctrl\",\"treat\",\"treat\",\"treat\")\n",
    "\n",
    "colData <- data.frame(\n",
    "    row.names = sample_names,\n",
    "    condition = factor(condition, levels =c(\"ctrl\", \"treat\"))\n",
    ")\n",
    "\n",
    "colData"
   ]
  },
  {
   "cell_type": "code",
   "execution_count": 51,
   "id": "b90da983-c5ac-4d7d-acdb-cb76dd161249",
   "metadata": {},
   "outputs": [
    {
     "name": "stdout",
     "output_type": "stream",
     "text": [
      "['Geneid', 'MC72_1', 'MC72_2', 'MC72_5', 'MEL72_2', 'MEL72_4', 'MEL72_5']\n"
     ]
    }
   ],
   "source": [
    "print (data.columns.tolist())"
   ]
  },
  {
   "cell_type": "markdown",
   "id": "b0be3a4a-30f1-414a-963a-44ea90988707",
   "metadata": {},
   "source": [
    "Bỏ các dòng giá trị trùng lặp, không có giá trị và xuất sang R để phân tích với DESeq2"
   ]
  },
  {
   "cell_type": "code",
   "execution_count": 67,
   "id": "f4534264-31d4-437a-9736-8b6ba28e3930",
   "metadata": {},
   "outputs": [
    {
     "data": {
      "text/html": [
       "<div>\n",
       "<style scoped>\n",
       "    .dataframe tbody tr th:only-of-type {\n",
       "        vertical-align: middle;\n",
       "    }\n",
       "\n",
       "    .dataframe tbody tr th {\n",
       "        vertical-align: top;\n",
       "    }\n",
       "\n",
       "    .dataframe thead th {\n",
       "        text-align: right;\n",
       "    }\n",
       "</style>\n",
       "<table border=\"1\" class=\"dataframe\">\n",
       "  <thead>\n",
       "    <tr style=\"text-align: right;\">\n",
       "      <th></th>\n",
       "      <th>Geneid</th>\n",
       "      <th>MC72_1</th>\n",
       "      <th>MC72_2</th>\n",
       "      <th>MC72_5</th>\n",
       "      <th>MEL72_2</th>\n",
       "      <th>MEL72_4</th>\n",
       "      <th>MEL72_5</th>\n",
       "    </tr>\n",
       "  </thead>\n",
       "  <tbody>\n",
       "    <tr>\n",
       "      <th>0</th>\n",
       "      <td>ENSG00000223972</td>\n",
       "      <td>6</td>\n",
       "      <td>2</td>\n",
       "      <td>8</td>\n",
       "      <td>15</td>\n",
       "      <td>8</td>\n",
       "      <td>5</td>\n",
       "    </tr>\n",
       "    <tr>\n",
       "      <th>1</th>\n",
       "      <td>ENSG00000227232</td>\n",
       "      <td>60</td>\n",
       "      <td>32</td>\n",
       "      <td>35</td>\n",
       "      <td>44</td>\n",
       "      <td>33</td>\n",
       "      <td>39</td>\n",
       "    </tr>\n",
       "    <tr>\n",
       "      <th>2</th>\n",
       "      <td>ENSG00000278267</td>\n",
       "      <td>6</td>\n",
       "      <td>4</td>\n",
       "      <td>2</td>\n",
       "      <td>4</td>\n",
       "      <td>4</td>\n",
       "      <td>4</td>\n",
       "    </tr>\n",
       "    <tr>\n",
       "      <th>3</th>\n",
       "      <td>ENSG00000243485</td>\n",
       "      <td>0</td>\n",
       "      <td>0</td>\n",
       "      <td>0</td>\n",
       "      <td>4</td>\n",
       "      <td>0</td>\n",
       "      <td>1</td>\n",
       "    </tr>\n",
       "    <tr>\n",
       "      <th>4</th>\n",
       "      <td>ENSG00000284332</td>\n",
       "      <td>0</td>\n",
       "      <td>0</td>\n",
       "      <td>0</td>\n",
       "      <td>0</td>\n",
       "      <td>0</td>\n",
       "      <td>0</td>\n",
       "    </tr>\n",
       "    <tr>\n",
       "      <th>...</th>\n",
       "      <td>...</td>\n",
       "      <td>...</td>\n",
       "      <td>...</td>\n",
       "      <td>...</td>\n",
       "      <td>...</td>\n",
       "      <td>...</td>\n",
       "      <td>...</td>\n",
       "    </tr>\n",
       "    <tr>\n",
       "      <th>58730</th>\n",
       "      <td>ENSG00000271254</td>\n",
       "      <td>249</td>\n",
       "      <td>116</td>\n",
       "      <td>181</td>\n",
       "      <td>221</td>\n",
       "      <td>102</td>\n",
       "      <td>230</td>\n",
       "    </tr>\n",
       "    <tr>\n",
       "      <th>58731</th>\n",
       "      <td>ENSG00000275405</td>\n",
       "      <td>2</td>\n",
       "      <td>0</td>\n",
       "      <td>1</td>\n",
       "      <td>0</td>\n",
       "      <td>0</td>\n",
       "      <td>0</td>\n",
       "    </tr>\n",
       "    <tr>\n",
       "      <th>58732</th>\n",
       "      <td>ENSG00000275987</td>\n",
       "      <td>0</td>\n",
       "      <td>0</td>\n",
       "      <td>0</td>\n",
       "      <td>0</td>\n",
       "      <td>0</td>\n",
       "      <td>0</td>\n",
       "    </tr>\n",
       "    <tr>\n",
       "      <th>58733</th>\n",
       "      <td>ENSG00000277475</td>\n",
       "      <td>0</td>\n",
       "      <td>0</td>\n",
       "      <td>0</td>\n",
       "      <td>2</td>\n",
       "      <td>0</td>\n",
       "      <td>1</td>\n",
       "    </tr>\n",
       "    <tr>\n",
       "      <th>58734</th>\n",
       "      <td>ENSG00000268674</td>\n",
       "      <td>0</td>\n",
       "      <td>0</td>\n",
       "      <td>0</td>\n",
       "      <td>0</td>\n",
       "      <td>0</td>\n",
       "      <td>0</td>\n",
       "    </tr>\n",
       "  </tbody>\n",
       "</table>\n",
       "<p>58735 rows × 7 columns</p>\n",
       "</div>"
      ],
      "text/plain": [
       "                Geneid  MC72_1  MC72_2  MC72_5  MEL72_2  MEL72_4  MEL72_5\n",
       "0      ENSG00000223972       6       2       8       15        8        5\n",
       "1      ENSG00000227232      60      32      35       44       33       39\n",
       "2      ENSG00000278267       6       4       2        4        4        4\n",
       "3      ENSG00000243485       0       0       0        4        0        1\n",
       "4      ENSG00000284332       0       0       0        0        0        0\n",
       "...                ...     ...     ...     ...      ...      ...      ...\n",
       "58730  ENSG00000271254     249     116     181      221      102      230\n",
       "58731  ENSG00000275405       2       0       1        0        0        0\n",
       "58732  ENSG00000275987       0       0       0        0        0        0\n",
       "58733  ENSG00000277475       0       0       0        2        0        1\n",
       "58734  ENSG00000268674       0       0       0        0        0        0\n",
       "\n",
       "[58735 rows x 7 columns]"
      ]
     },
     "execution_count": 67,
     "metadata": {},
     "output_type": "execute_result"
    }
   ],
   "source": [
    "data_DE = data.drop_duplicates('Geneid').dropna(how='any')\n",
    "%R -i data_DE\n",
    "\n",
    "data_DE"
   ]
  },
  {
   "cell_type": "markdown",
   "id": "670dace9-fddd-4916-aed7-43de1f57a7ef",
   "metadata": {},
   "source": [
    "Gán Geneid làm rownames cho ma trận đếm"
   ]
  },
  {
   "cell_type": "code",
   "execution_count": 68,
   "id": "ea0880a9-3854-45f1-8680-0d1882a39ad6",
   "metadata": {},
   "outputs": [],
   "source": [
    "%%R\n",
    "rownames(data_DE) <- data_DE$Geneid\n",
    "data_DE$Geneid <- NULL"
   ]
  },
  {
   "cell_type": "markdown",
   "id": "68d5375f-b2b7-408d-b538-9090ae7236e9",
   "metadata": {},
   "source": [
    "Thực hiện phân tích DESeq2  \n",
    "Trong đó:  \n",
    "32111 gene được xét có ít nhất 1 reads  \n",
    "Tiêu chí lọc gene khác biệt biểu hiện dựa trên p-value đã hiệu chỉnh (FDR < 10%) cho kết quả:  \n",
    "-1015 gene (3,2%) tăng biểu hiện với nhóm điều trị (LFC > 0), cho thấy G1 có tác dụng làm tăng sự biểu hiện của một nhóm gene nhất định.\n",
    "-642 gene (2%) giảm biểu hiện với nhóm điều trị (LFC < 0), phản ánh một số gene bị ức chế hoặc giảm hoạt động khi bị điều trị bằng G1.\n",
    "-Không có gen ngoại lai (outliner) trong quá trình phân tích, điều này cho thấy sự ổn định và chất lượng của bộ dữ liệu thu được từ RNA-seq. \n",
    "-> Trong 32,111 gene, có khoảng 1,657 gene (5.2%) được xác định là khác biệt biểu hiện có ý nghĩa thống kê (DEGs)  \n"
   ]
  },
  {
   "cell_type": "code",
   "execution_count": 71,
   "id": "6765d29c-c85b-4782-aef4-790e66a0532c",
   "metadata": {},
   "outputs": [
    {
     "name": "stdout",
     "output_type": "stream",
     "text": [
      "\n",
      "out of 32111 with nonzero total read count\n",
      "adjusted p-value < 0.1\n",
      "LFC > 0 (up)       : 1015, 3.2%\n",
      "LFC < 0 (down)     : 642, 2%\n",
      "outliers [1]       : 0, 0%\n",
      "low counts [2]     : 17862, 56%\n",
      "(mean count < 14)\n",
      "[1] see 'cooksCutoff' argument of ?results\n",
      "[2] see 'independentFiltering' argument of ?results\n",
      "\n"
     ]
    },
    {
     "data": {
      "text/plain": [
       "estimating size factors\n",
       "estimating dispersions\n",
       "gene-wise dispersion estimates\n",
       "mean-dispersion relationship\n",
       "final dispersion estimates\n",
       "fitting model and testing\n"
      ]
     },
     "metadata": {},
     "output_type": "display_data"
    }
   ],
   "source": [
    "%%R\n",
    "dds <- DESeqDataSetFromMatrix(\n",
    "    countData = data_DE,\n",
    "    colData = colData,\n",
    "    design = ~ condition\n",
    ")\n",
    "dds <- DESeq(dds)\n",
    "res <- results(dds)\n",
    "summary(res)"
   ]
  },
  {
   "cell_type": "markdown",
   "id": "55b0992f-55f7-4c22-8d46-0506e153650f",
   "metadata": {},
   "source": [
    "Biểu đồ MA-plot trực quan hóa sự thay đổi biểu hiện giữa nhóm treat và control.  \n",
    "Trục X: Mean of normalized counts – Thể hiện mức độ biểu hiện trung bình của gen trong tất cả các mẫu (cả nhóm treat và control).\n",
    "Trục Y: log2 fold change – Thể hiện sự thay đổi biểu hiện giữa nhóm điều trị và nhóm đối chứng. Nếu giá trị log2 fold change lớn hơn 0, có nghĩa là gene tăng biểu hiện trong nhóm điều trị, còn nếu nhỏ hơn 0 thì gene giảm biểu hiện."
   ]
  },
  {
   "cell_type": "code",
   "execution_count": 73,
   "id": "83f5c241-2e8d-4a5a-9e19-0f73eff6b0ed",
   "metadata": {},
   "outputs": [
    {
     "data": {
      "image/png": "[encoded data removed]",
      "text/plain": [
       "<IPython.core.display.Image object>"
      ]
     },
     "metadata": {},
     "output_type": "display_data"
    }
   ],
   "source": [
    "%%R\n",
    "plotMA(res, ylim = c(-5,5))"
   ]
  },
  {
   "cell_type": "code",
   "execution_count": null,
   "id": "eeb8181f-ea73-4308-ab09-1b2e290b97f6",
   "metadata": {},
   "outputs": [],
   "source": [
    "Kết quả từ MA-plot:\n",
    "Các điểm xám: Đại diện cho gene không có sự thay đổi biểu hiện có ý nghĩa thống kê giữa nhóm điều trị và nhóm đối chứng\n",
    "Các điểm xanh: Đại diện cho các gene có sự thay đổi biểu hiện vượt qua ngưỡng kiểm định và cho thấy những biến đổi liên quan đến tác động của G1 trên tế bào ung thư vú\n",
    "và là đối tượng nghiên cứu tiềm năng để xác định các gene mục tiêu liên quan đến tác động của G1 đối với GPER\n",
    "Tính đối xứng của MA-plot: Biểu đồ không cho thấy sự lệch lớn trong sự thay đổi giữa hai nhóm chứng tỏ sự thay đổi biểu hiện là đồng đều giữa các gene.\n",
    "    "
   ]
  },
  {
   "cell_type": "code",
   "execution_count": 3,
   "id": "3e647f3a-da37-4acb-a132-485c3394e97b",
   "metadata": {},
   "outputs": [
    {
     "ename": "NameError",
     "evalue": "name 'res' is not defined",
     "output_type": "error",
     "traceback": [
      "\u001b[31m---------------------------------------------------------------------------\u001b[39m",
      "\u001b[31mNameError\u001b[39m                                 Traceback (most recent call last)",
      "\u001b[36mCell\u001b[39m\u001b[36m \u001b[39m\u001b[32mIn[3]\u001b[39m\u001b[32m, line 1\u001b[39m\n\u001b[32m----> \u001b[39m\u001b[32m1\u001b[39m significant_genes = \u001b[43mres\u001b[49m[(\u001b[38;5;28mabs\u001b[39m(res[\u001b[33m'\u001b[39m\u001b[33mlog2FoldChange\u001b[39m\u001b[33m'\u001b[39m]) > \u001b[32m1\u001b[39m) & (res[\u001b[33m'\u001b[39m\u001b[33mpadj\u001b[39m\u001b[33m'\u001b[39m] < \u001b[32m0.05\u001b[39m)]\n\u001b[32m      3\u001b[39m \u001b[38;5;66;03m# Xem các gene này\u001b[39;00m\n\u001b[32m      4\u001b[39m \u001b[38;5;28mprint\u001b[39m(significant_genes)\n",
      "\u001b[31mNameError\u001b[39m: name 'res' is not defined"
     ]
    }
   ],
   "source": [
    "significant_genes = res[(abs(res['log2FoldChange']) > 1) & (res['padj'] < 0.05)]\n",
    "\n",
    "# Xem các gene này\n",
    "print(significant_genes)"
   ]
  },
  {
   "cell_type": "code",
   "execution_count": 74,
   "id": "b6777e46-2434-40f7-bccf-4c37d7c3234d",
   "metadata": {},
   "outputs": [],
   "source": [
    "%%R -o res_df\n",
    "res_df <- as.data.frame(res)\n",
    "res_df$gene <- rownames(res_df)"
   ]
  },
  {
   "cell_type": "code",
   "execution_count": 75,
   "id": "1a4e0956-d8b4-49f5-b144-1aa396666410",
   "metadata": {},
   "outputs": [
    {
     "data": {
      "text/html": [
       "<div>\n",
       "<style scoped>\n",
       "    .dataframe tbody tr th:only-of-type {\n",
       "        vertical-align: middle;\n",
       "    }\n",
       "\n",
       "    .dataframe tbody tr th {\n",
       "        vertical-align: top;\n",
       "    }\n",
       "\n",
       "    .dataframe thead th {\n",
       "        text-align: right;\n",
       "    }\n",
       "</style>\n",
       "<table border=\"1\" class=\"dataframe\">\n",
       "  <thead>\n",
       "    <tr style=\"text-align: right;\">\n",
       "      <th></th>\n",
       "      <th>baseMean</th>\n",
       "      <th>log2FoldChange</th>\n",
       "      <th>lfcSE</th>\n",
       "      <th>stat</th>\n",
       "      <th>pvalue</th>\n",
       "      <th>padj</th>\n",
       "      <th>gene</th>\n",
       "    </tr>\n",
       "  </thead>\n",
       "  <tbody>\n",
       "    <tr>\n",
       "      <th>ENSG00000223972</th>\n",
       "      <td>6.964438</td>\n",
       "      <td>0.783176</td>\n",
       "      <td>0.794198</td>\n",
       "      <td>0.986121</td>\n",
       "      <td>0.324074</td>\n",
       "      <td>NaN</td>\n",
       "      <td>ENSG00000223972</td>\n",
       "    </tr>\n",
       "    <tr>\n",
       "      <th>ENSG00000227232</th>\n",
       "      <td>39.544670</td>\n",
       "      <td>-0.081613</td>\n",
       "      <td>0.341091</td>\n",
       "      <td>-0.239271</td>\n",
       "      <td>0.810896</td>\n",
       "      <td>0.919893</td>\n",
       "      <td>ENSG00000227232</td>\n",
       "    </tr>\n",
       "    <tr>\n",
       "      <th>ENSG00000278267</th>\n",
       "      <td>3.984651</td>\n",
       "      <td>0.065247</td>\n",
       "      <td>0.973106</td>\n",
       "      <td>0.067050</td>\n",
       "      <td>0.946542</td>\n",
       "      <td>NaN</td>\n",
       "      <td>ENSG00000278267</td>\n",
       "    </tr>\n",
       "    <tr>\n",
       "      <th>ENSG00000243485</th>\n",
       "      <td>0.652216</td>\n",
       "      <td>2.880756</td>\n",
       "      <td>2.870129</td>\n",
       "      <td>1.003703</td>\n",
       "      <td>0.315522</td>\n",
       "      <td>NaN</td>\n",
       "      <td>ENSG00000243485</td>\n",
       "    </tr>\n",
       "    <tr>\n",
       "      <th>ENSG00000284332</th>\n",
       "      <td>0.000000</td>\n",
       "      <td>NaN</td>\n",
       "      <td>NaN</td>\n",
       "      <td>NaN</td>\n",
       "      <td>NaN</td>\n",
       "      <td>NaN</td>\n",
       "      <td>ENSG00000284332</td>\n",
       "    </tr>\n",
       "    <tr>\n",
       "      <th>...</th>\n",
       "      <td>...</td>\n",
       "      <td>...</td>\n",
       "      <td>...</td>\n",
       "      <td>...</td>\n",
       "      <td>...</td>\n",
       "      <td>...</td>\n",
       "      <td>...</td>\n",
       "    </tr>\n",
       "    <tr>\n",
       "      <th>ENSG00000271254</th>\n",
       "      <td>175.880554</td>\n",
       "      <td>0.043231</td>\n",
       "      <td>0.270876</td>\n",
       "      <td>0.159599</td>\n",
       "      <td>0.873197</td>\n",
       "      <td>0.947514</td>\n",
       "      <td>ENSG00000271254</td>\n",
       "    </tr>\n",
       "    <tr>\n",
       "      <th>ENSG00000275405</th>\n",
       "      <td>0.414512</td>\n",
       "      <td>-2.211778</td>\n",
       "      <td>3.352468</td>\n",
       "      <td>-0.659746</td>\n",
       "      <td>0.509417</td>\n",
       "      <td>NaN</td>\n",
       "      <td>ENSG00000275405</td>\n",
       "    </tr>\n",
       "    <tr>\n",
       "      <th>ENSG00000275987</th>\n",
       "      <td>0.000000</td>\n",
       "      <td>NaN</td>\n",
       "      <td>NaN</td>\n",
       "      <td>NaN</td>\n",
       "      <td>NaN</td>\n",
       "      <td>NaN</td>\n",
       "      <td>ENSG00000275987</td>\n",
       "    </tr>\n",
       "    <tr>\n",
       "      <th>ENSG00000277475</th>\n",
       "      <td>0.415066</td>\n",
       "      <td>2.220388</td>\n",
       "      <td>3.350627</td>\n",
       "      <td>0.662678</td>\n",
       "      <td>0.507537</td>\n",
       "      <td>NaN</td>\n",
       "      <td>ENSG00000277475</td>\n",
       "    </tr>\n",
       "    <tr>\n",
       "      <th>ENSG00000268674</th>\n",
       "      <td>0.000000</td>\n",
       "      <td>NaN</td>\n",
       "      <td>NaN</td>\n",
       "      <td>NaN</td>\n",
       "      <td>NaN</td>\n",
       "      <td>NaN</td>\n",
       "      <td>ENSG00000268674</td>\n",
       "    </tr>\n",
       "  </tbody>\n",
       "</table>\n",
       "<p>58735 rows × 7 columns</p>\n",
       "</div>"
      ],
      "text/plain": [
       "                   baseMean  log2FoldChange     lfcSE      stat    pvalue  \\\n",
       "ENSG00000223972    6.964438        0.783176  0.794198  0.986121  0.324074   \n",
       "ENSG00000227232   39.544670       -0.081613  0.341091 -0.239271  0.810896   \n",
       "ENSG00000278267    3.984651        0.065247  0.973106  0.067050  0.946542   \n",
       "ENSG00000243485    0.652216        2.880756  2.870129  1.003703  0.315522   \n",
       "ENSG00000284332    0.000000             NaN       NaN       NaN       NaN   \n",
       "...                     ...             ...       ...       ...       ...   \n",
       "ENSG00000271254  175.880554        0.043231  0.270876  0.159599  0.873197   \n",
       "ENSG00000275405    0.414512       -2.211778  3.352468 -0.659746  0.509417   \n",
       "ENSG00000275987    0.000000             NaN       NaN       NaN       NaN   \n",
       "ENSG00000277475    0.415066        2.220388  3.350627  0.662678  0.507537   \n",
       "ENSG00000268674    0.000000             NaN       NaN       NaN       NaN   \n",
       "\n",
       "                     padj             gene  \n",
       "ENSG00000223972       NaN  ENSG00000223972  \n",
       "ENSG00000227232  0.919893  ENSG00000227232  \n",
       "ENSG00000278267       NaN  ENSG00000278267  \n",
       "ENSG00000243485       NaN  ENSG00000243485  \n",
       "ENSG00000284332       NaN  ENSG00000284332  \n",
       "...                   ...              ...  \n",
       "ENSG00000271254  0.947514  ENSG00000271254  \n",
       "ENSG00000275405       NaN  ENSG00000275405  \n",
       "ENSG00000275987       NaN  ENSG00000275987  \n",
       "ENSG00000277475       NaN  ENSG00000277475  \n",
       "ENSG00000268674       NaN  ENSG00000268674  \n",
       "\n",
       "[58735 rows x 7 columns]"
      ]
     },
     "execution_count": 75,
     "metadata": {},
     "output_type": "execute_result"
    }
   ],
   "source": [
    "res_df"
   ]
  },
  {
   "cell_type": "code",
   "execution_count": null,
   "id": "fdf8616b-d296-4c2a-9b27-eb30205f366e",
   "metadata": {},
   "outputs": [],
   "source": []
  },
  {
   "cell_type": "code",
   "execution_count": 92,
   "id": "e24bbc5b-519d-495f-aa6c-be8b3d2919d8",
   "metadata": {},
   "outputs": [
    {
     "data": {
      "image/png": "[encoded data removed]",
      "text/plain": [
       "<Figure size 500x500 with 1 Axes>"
      ]
     },
     "metadata": {},
     "output_type": "display_data"
    }
   ],
   "source": [
    "df = res_df.dropna(subset=['pvalue', 'log2FoldChange']).copy()\n",
    "\n",
    "# Thay p=0 bằng epsilon nhỏ để tránh log10(0)\n",
    "epsilon = 1e-300\n",
    "pvals = df['pvalue'].to_numpy(np.float64)\n",
    "pvals[pvals <= 0] = epsilon\n",
    "\n",
    "x = df['log2FoldChange'].to_numpy(np.float32)\n",
    "y = -np.log10(pvals).astype(np.float32)\n",
    "\n",
    "ns = ((df['pvalue'] > 0.05) | (np.abs(df['log2FoldChange']) < 1))\n",
    "ur = ((df['pvalue'] <= 0.05) & (df['log2FoldChange'] >= 1))\n",
    "dr = ((df['pvalue'] <= 0.05) & (df['log2FoldChange'] <= -1))\n",
    "\n",
    "plt.figure(figsize=(5,5), dpi=100)\n",
    "\n",
    "plt.scatter(x[ns], y[ns], s=4, c='grey', alpha=0.6, rasterized=True, label='NS')\n",
    "plt.scatter(x[ur], y[ur], s=4, c='red', alpha=0.8, rasterized=True, label='UR')\n",
    "plt.scatter(x[dr], y[dr], s=4, c='blue', alpha=0.8, rasterized=True, label='DR')\n",
    "\n",
    "# Các đường ngưỡng\n",
    "plt.axvline(0, linewidth=1)\n",
    "plt.axvline(1, linewidth=1, linestyle='--')\n",
    "plt.axvline(-1, linewidth=1, linestyle='--')\n",
    "plt.axhline(-np.log10(0.05), linewidth=1, linestyle='--')\n",
    "\n",
    "plt.xlim(-3, 3)\n",
    "plt.ylim(-0.5, 6)  # crop lại để không quá dài nếu có p=0\n",
    "plt.legend(bbox_to_anchor=(1.2, 1))\n",
    "plt.title('MCF7 treat with 10um enterolactone')\n",
    "plt.tight_layout()\n",
    "\n",
    "# Lưu file \n",
    "plt.savefig('volcano_scatter_rasterized.png', dpi=120, bbox_inches='tight')\n",
    "plt.show() "
   ]
  },
  {
   "cell_type": "code",
   "execution_count": null,
   "id": "01452d7b-0897-471e-bc1c-5eb5a082945d",
   "metadata": {},
   "outputs": [],
   "source": []
  }
 ],
 "metadata": {
  "kernelspec": {
   "display_name": "Python 3 (ipykernel)",
   "language": "python",
   "name": "python3"
  },
  "language_info": {
   "codemirror_mode": {
    "name": "ipython",
    "version": 3
   },
   "file_extension": ".py",
   "mimetype": "text/x-python",
   "name": "python",
   "nbconvert_exporter": "python",
   "pygments_lexer": "ipython3",
   "version": "3.13.5"
  }
 },
 "nbformat": 4,
 "nbformat_minor": 5
}
