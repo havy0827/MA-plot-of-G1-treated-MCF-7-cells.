{
 "cells": [
  {
   "cell_type": "markdown",
   "id": "981540d8-15c7-4345-9d4d-af40216185d1",
   "metadata": {},
   "source": [
    "Research article: https://www.sciencedirect.com/science/article/pii/S2352340922001597  \n",
    "Data: https://www.ncbi.nlm.nih.gov/geo/query/acc.cgi?acc=GSE18870  \n",
    "**Nội dung**: Phân tích MA-plot từ dữ liệu RNA-seq của tế bào ung thư vú MCF-7 điều trị bằng G1 - tác nhân kích hoạt receptor estrogen liên kết protein G (GPER).  \n",
    "**Mục tiêu của phân tích**: so sánh sự thay đổi biểu hiện gene giữa nhóm treat (điều trị) và control (đối chứng), giúp nhận diện các gene thay đổi biểu hiện giữa các nhóm, từ đó chỉ ra các biến thể gene tiềm năng để nghiên cứu thêm về tác động của GPER trong ung thư vú."
   ]
  },
  {
   "cell_type": "markdown",
   "id": "bd01de4e-8a14-4e3f-af7d-6feb83326aec",
   "metadata": {},
   "source": [
    "Thêm các thư viện cần thiết"
   ]
  },
  {
   "cell_type": "code",
   "execution_count": 10,
   "id": "2e71bf2f-44ef-4fd2-b5f4-7b14297c01f2",
   "metadata": {},
   "outputs": [],
   "source": [
    "import pandas as pd\n",
    "import numpy as np\n",
    "import seaborn as sns\n",
    "import matplotlib.pyplot as plt\n",
    "from matplotlib import cm\n",
    "from scipy import stats"
   ]
  },
  {
   "cell_type": "markdown",
   "id": "1dc17217-acd0-4780-948f-b4089d66f09c",
   "metadata": {},
   "source": [
    "Tạo môi trường để dùng R trong Jupyter Notebook"
   ]
  },
  {
   "cell_type": "code",
   "execution_count": 56,
   "id": "102d3de5-9bc4-4fb4-bfd2-1589fe69fea3",
   "metadata": {},
   "outputs": [
    {
     "name": "stdout",
     "output_type": "stream",
     "text": [
      "The rpy2.ipython extension is already loaded. To reload it, use:\n",
      "  %reload_ext rpy2.ipython\n"
     ]
    }
   ],
   "source": [
    "import re\n",
    "import os \n",
    "os.environ['R_HOME'] =r\"C:\\Program Files\\R\\R-4.5.1\"\n",
    "os.environ['PATH'] += r\" ;C:\\Program Files\\R\\R-4.5.1\\bin\"\n",
    "import rpy2\n",
    "%load_ext rpy2.ipython"
   ]
  },
  {
   "cell_type": "markdown",
   "id": "584eca00-651d-4dea-8437-1ee4d296b3e3",
   "metadata": {},
   "source": [
    "Chỉnh chất lượng hình ảnh bằng matplotlib "
   ]
  },
  {
   "cell_type": "code",
   "execution_count": 99,
   "id": "490a024d-32a0-4bf9-a706-70446596b883",
   "metadata": {},
   "outputs": [],
   "source": [
    "import matplotlib as mpl \n",
    "mpl.rcParams['figure.dpi'] =300\n",
    "def output_figure(n):\n",
    "    plt.savefig(f'figure_output/{n}.svg', dpi =300, bbox_inches ='tight')"
   ]
  },
  {
   "cell_type": "markdown",
   "id": "e7bc327a-0106-46f3-9622-fad8429aea2e",
   "metadata": {},
   "source": [
    "Đưa dữ liệu gene counts từ file Excel vào DataFrame"
   ]
  },
  {
   "cell_type": "code",
   "execution_count": 58,
   "id": "46c2a25f-b318-4419-9b8f-e166bceb18d7",
   "metadata": {},
   "outputs": [
    {
     "data": {
      "text/html": [
       "<div>\n",
       "<style scoped>\n",
       "    .dataframe tbody tr th:only-of-type {\n",
       "        vertical-align: middle;\n",
       "    }\n",
       "\n",
       "    .dataframe tbody tr th {\n",
       "        vertical-align: top;\n",
       "    }\n",
       "\n",
       "    .dataframe thead th {\n",
       "        text-align: right;\n",
       "    }\n",
       "</style>\n",
       "<table border=\"1\" class=\"dataframe\">\n",
       "  <thead>\n",
       "    <tr style=\"text-align: right;\">\n",
       "      <th></th>\n",
       "      <th>Geneid</th>\n",
       "      <th>MC72_1</th>\n",
       "      <th>MC72_2</th>\n",
       "      <th>MC72_5</th>\n",
       "      <th>MEL72_2</th>\n",
       "      <th>MEL72_4</th>\n",
       "      <th>MEL72_5</th>\n",
       "    </tr>\n",
       "  </thead>\n",
       "  <tbody>\n",
       "    <tr>\n",
       "      <th>0</th>\n",
       "      <td>ENSG00000223972</td>\n",
       "      <td>6</td>\n",
       "      <td>2</td>\n",
       "      <td>8</td>\n",
       "      <td>15</td>\n",
       "      <td>8</td>\n",
       "      <td>5</td>\n",
       "    </tr>\n",
       "    <tr>\n",
       "      <th>1</th>\n",
       "      <td>ENSG00000227232</td>\n",
       "      <td>60</td>\n",
       "      <td>32</td>\n",
       "      <td>35</td>\n",
       "      <td>44</td>\n",
       "      <td>33</td>\n",
       "      <td>39</td>\n",
       "    </tr>\n",
       "    <tr>\n",
       "      <th>2</th>\n",
       "      <td>ENSG00000278267</td>\n",
       "      <td>6</td>\n",
       "      <td>4</td>\n",
       "      <td>2</td>\n",
       "      <td>4</td>\n",
       "      <td>4</td>\n",
       "      <td>4</td>\n",
       "    </tr>\n",
       "    <tr>\n",
       "      <th>3</th>\n",
       "      <td>ENSG00000243485</td>\n",
       "      <td>0</td>\n",
       "      <td>0</td>\n",
       "      <td>0</td>\n",
       "      <td>4</td>\n",
       "      <td>0</td>\n",
       "      <td>1</td>\n",
       "    </tr>\n",
       "    <tr>\n",
       "      <th>4</th>\n",
       "      <td>ENSG00000284332</td>\n",
       "      <td>0</td>\n",
       "      <td>0</td>\n",
       "      <td>0</td>\n",
       "      <td>0</td>\n",
       "      <td>0</td>\n",
       "      <td>0</td>\n",
       "    </tr>\n",
       "    <tr>\n",
       "      <th>...</th>\n",
       "      <td>...</td>\n",
       "      <td>...</td>\n",
       "      <td>...</td>\n",
       "      <td>...</td>\n",
       "      <td>...</td>\n",
       "      <td>...</td>\n",
       "      <td>...</td>\n",
       "    </tr>\n",
       "    <tr>\n",
       "      <th>58730</th>\n",
       "      <td>ENSG00000271254</td>\n",
       "      <td>249</td>\n",
       "      <td>116</td>\n",
       "      <td>181</td>\n",
       "      <td>221</td>\n",
       "      <td>102</td>\n",
       "      <td>230</td>\n",
       "    </tr>\n",
       "    <tr>\n",
       "      <th>58731</th>\n",
       "      <td>ENSG00000275405</td>\n",
       "      <td>2</td>\n",
       "      <td>0</td>\n",
       "      <td>1</td>\n",
       "      <td>0</td>\n",
       "      <td>0</td>\n",
       "      <td>0</td>\n",
       "    </tr>\n",
       "    <tr>\n",
       "      <th>58732</th>\n",
       "      <td>ENSG00000275987</td>\n",
       "      <td>0</td>\n",
       "      <td>0</td>\n",
       "      <td>0</td>\n",
       "      <td>0</td>\n",
       "      <td>0</td>\n",
       "      <td>0</td>\n",
       "    </tr>\n",
       "    <tr>\n",
       "      <th>58733</th>\n",
       "      <td>ENSG00000277475</td>\n",
       "      <td>0</td>\n",
       "      <td>0</td>\n",
       "      <td>0</td>\n",
       "      <td>2</td>\n",
       "      <td>0</td>\n",
       "      <td>1</td>\n",
       "    </tr>\n",
       "    <tr>\n",
       "      <th>58734</th>\n",
       "      <td>ENSG00000268674</td>\n",
       "      <td>0</td>\n",
       "      <td>0</td>\n",
       "      <td>0</td>\n",
       "      <td>0</td>\n",
       "      <td>0</td>\n",
       "      <td>0</td>\n",
       "    </tr>\n",
       "  </tbody>\n",
       "</table>\n",
       "<p>58735 rows × 7 columns</p>\n",
       "</div>"
      ],
      "text/plain": [
       "                Geneid  MC72_1  MC72_2  MC72_5  MEL72_2  MEL72_4  MEL72_5\n",
       "0      ENSG00000223972       6       2       8       15        8        5\n",
       "1      ENSG00000227232      60      32      35       44       33       39\n",
       "2      ENSG00000278267       6       4       2        4        4        4\n",
       "3      ENSG00000243485       0       0       0        4        0        1\n",
       "4      ENSG00000284332       0       0       0        0        0        0\n",
       "...                ...     ...     ...     ...      ...      ...      ...\n",
       "58730  ENSG00000271254     249     116     181      221      102      230\n",
       "58731  ENSG00000275405       2       0       1        0        0        0\n",
       "58732  ENSG00000275987       0       0       0        0        0        0\n",
       "58733  ENSG00000277475       0       0       0        2        0        1\n",
       "58734  ENSG00000268674       0       0       0        0        0        0\n",
       "\n",
       "[58735 rows x 7 columns]"
      ]
     },
     "execution_count": 58,
     "metadata": {},
     "output_type": "execute_result"
    }
   ],
   "source": [
    "data = pd.read_excel(r\"C:\\Users\\HP\\Downloads\\GSE216876_Raw_gene_counts_matrix_enterolactone_DMSO.xlsx\")\n",
    "data\n",
    "            "
   ]
  },
  {
   "cell_type": "markdown",
   "id": "cc4c3309-8c8e-4509-977e-29eb7e801b76",
   "metadata": {},
   "source": [
    "Bảng thể hiện số reads count của từng gene trong các mẫu RNA-seq.  \n",
    "Cột Geneid đại diện cho mã gene, các cột còn lại là số reads mapping vào gene đó ở từng mẫu thí nghiệm, đây là dữ liệu gốc để so sánh xem gene nào hoạt động mạnh hay yếu hơn giữa các nhóm mẫu."
   ]
  },
  {
   "cell_type": "markdown",
   "id": "5eb200f9-c4cf-4da3-bf06-4008f40c8220",
   "metadata": {},
   "source": [
    " Thiết lập thư mục cài đặt package R và nạp thư viện DESeq2 để dùng cho phân tích biểu hiện khác biệt"
   ]
  },
  {
   "cell_type": "code",
   "execution_count": 59,
   "id": "d3bbe54f-8498-49a2-94c8-f8dbc8d53747",
   "metadata": {},
   "outputs": [
    {
     "data": {
      "text/plain": [
       "'getOption(\"repos\")' replaces Bioconductor standard repositories, see\n",
       "'help(\"repositories\", package = \"BiocManager\")' for details.\n",
       "Replacement repositories:\n",
       "    CRAN: https://mirror.chpc.utah.edu/pub/cran\n",
       "Bioconductor version 3.21 (BiocManager 1.30.26), R 4.5.1 (2025-06-13 ucrt)\n",
       "Installing package(s) 'DESeq2'\n",
       "Warning: package 'DESeq2' is in use and will not be installed\n"
      ]
     },
     "metadata": {},
     "output_type": "display_data"
    }
   ],
   "source": [
    "%%R\n",
    "lib_path <- Sys.getenv(\"R_LIBS_USER\")\n",
    "if (!dir.exists(lib_path)) dir.create(lib_path, recursive = TRUE)\n",
    ".libPaths(lib_path)\n",
    "\n",
    "if (!requireNamespace(\"BiocManager\", quietly = TRUE))\n",
    "    install.packages(\"BiocManager\", lib = lib_path)\n",
    "\n",
    "BiocManager::install(\"DESeq2\", lib = lib_path, update = FALSE, ask = FALSE)\n",
    "\n",
    "library(DESeq2)"
   ]
  },
  {
   "cell_type": "markdown",
   "id": "8ea8b648-26f2-405f-818d-3831d2341342",
   "metadata": {},
   "source": [
    "Khai báo tên sample và tạo vector điều kiện thi nghiệm: ctrl : đối chứng, treat = xử lý"
   ]
  },
  {
   "cell_type": "code",
   "execution_count": 60,
   "id": "864609fc-80da-4a31-86d2-95bd4a07e65f",
   "metadata": {},
   "outputs": [
    {
     "name": "stdout",
     "output_type": "stream",
     "text": [
      "        condition\n",
      "MC72_1       ctrl\n",
      "MC72_2       ctrl\n",
      "MC72_5       ctrl\n",
      "MEL72_2     treat\n",
      "MEL72_4     treat\n",
      "MEL72_5     treat\n"
     ]
    }
   ],
   "source": [
    "%%R\n",
    "sample_names <- c(\"MC72_1\",\"MC72_2\", \"MC72_5\", \"MEL72_2\", \"MEL72_4\",\"MEL72_5\")\n",
    "condition <- c(\"ctrl\",\"ctrl\",\"ctrl\",\"treat\",\"treat\",\"treat\")\n",
    "\n",
    "colData <- data.frame(\n",
    "    row.names = sample_names,\n",
    "    condition = factor(condition, levels =c(\"ctrl\", \"treat\"))\n",
    ")\n",
    "\n",
    "colData"
   ]
  },
  {
   "cell_type": "code",
   "execution_count": 51,
   "id": "b90da983-c5ac-4d7d-acdb-cb76dd161249",
   "metadata": {},
   "outputs": [
    {
     "name": "stdout",
     "output_type": "stream",
     "text": [
      "['Geneid', 'MC72_1', 'MC72_2', 'MC72_5', 'MEL72_2', 'MEL72_4', 'MEL72_5']\n"
     ]
    }
   ],
   "source": [
    "print (data.columns.tolist())"
   ]
  },
  {
   "cell_type": "markdown",
   "id": "b0be3a4a-30f1-414a-963a-44ea90988707",
   "metadata": {},
   "source": [
    "Bỏ các dòng giá trị trùng lặp, không có giá trị và xuất sang R để phân tích với DESeq2"
   ]
  },
  {
   "cell_type": "code",
   "execution_count": 67,
   "id": "f4534264-31d4-437a-9736-8b6ba28e3930",
   "metadata": {},
   "outputs": [
    {
     "data": {
      "text/html": [
       "<div>\n",
       "<style scoped>\n",
       "    .dataframe tbody tr th:only-of-type {\n",
       "        vertical-align: middle;\n",
       "    }\n",
       "\n",
       "    .dataframe tbody tr th {\n",
       "        vertical-align: top;\n",
       "    }\n",
       "\n",
       "    .dataframe thead th {\n",
       "        text-align: right;\n",
       "    }\n",
       "</style>\n",
       "<table border=\"1\" class=\"dataframe\">\n",
       "  <thead>\n",
       "    <tr style=\"text-align: right;\">\n",
       "      <th></th>\n",
       "      <th>Geneid</th>\n",
       "      <th>MC72_1</th>\n",
       "      <th>MC72_2</th>\n",
       "      <th>MC72_5</th>\n",
       "      <th>MEL72_2</th>\n",
       "      <th>MEL72_4</th>\n",
       "      <th>MEL72_5</th>\n",
       "    </tr>\n",
       "  </thead>\n",
       "  <tbody>\n",
       "    <tr>\n",
       "      <th>0</th>\n",
       "      <td>ENSG00000223972</td>\n",
       "      <td>6</td>\n",
       "      <td>2</td>\n",
       "      <td>8</td>\n",
       "      <td>15</td>\n",
       "      <td>8</td>\n",
       "      <td>5</td>\n",
       "    </tr>\n",
       "    <tr>\n",
       "      <th>1</th>\n",
       "      <td>ENSG00000227232</td>\n",
       "      <td>60</td>\n",
       "      <td>32</td>\n",
       "      <td>35</td>\n",
       "      <td>44</td>\n",
       "      <td>33</td>\n",
       "      <td>39</td>\n",
       "    </tr>\n",
       "    <tr>\n",
       "      <th>2</th>\n",
       "      <td>ENSG00000278267</td>\n",
       "      <td>6</td>\n",
       "      <td>4</td>\n",
       "      <td>2</td>\n",
       "      <td>4</td>\n",
       "      <td>4</td>\n",
       "      <td>4</td>\n",
       "    </tr>\n",
       "    <tr>\n",
       "      <th>3</th>\n",
       "      <td>ENSG00000243485</td>\n",
       "      <td>0</td>\n",
       "      <td>0</td>\n",
       "      <td>0</td>\n",
       "      <td>4</td>\n",
       "      <td>0</td>\n",
       "      <td>1</td>\n",
       "    </tr>\n",
       "    <tr>\n",
       "      <th>4</th>\n",
       "      <td>ENSG00000284332</td>\n",
       "      <td>0</td>\n",
       "      <td>0</td>\n",
       "      <td>0</td>\n",
       "      <td>0</td>\n",
       "      <td>0</td>\n",
       "      <td>0</td>\n",
       "    </tr>\n",
       "    <tr>\n",
       "      <th>...</th>\n",
       "      <td>...</td>\n",
       "      <td>...</td>\n",
       "      <td>...</td>\n",
       "      <td>...</td>\n",
       "      <td>...</td>\n",
       "      <td>...</td>\n",
       "      <td>...</td>\n",
       "    </tr>\n",
       "    <tr>\n",
       "      <th>58730</th>\n",
       "      <td>ENSG00000271254</td>\n",
       "      <td>249</td>\n",
       "      <td>116</td>\n",
       "      <td>181</td>\n",
       "      <td>221</td>\n",
       "      <td>102</td>\n",
       "      <td>230</td>\n",
       "    </tr>\n",
       "    <tr>\n",
       "      <th>58731</th>\n",
       "      <td>ENSG00000275405</td>\n",
       "      <td>2</td>\n",
       "      <td>0</td>\n",
       "      <td>1</td>\n",
       "      <td>0</td>\n",
       "      <td>0</td>\n",
       "      <td>0</td>\n",
       "    </tr>\n",
       "    <tr>\n",
       "      <th>58732</th>\n",
       "      <td>ENSG00000275987</td>\n",
       "      <td>0</td>\n",
       "      <td>0</td>\n",
       "      <td>0</td>\n",
       "      <td>0</td>\n",
       "      <td>0</td>\n",
       "      <td>0</td>\n",
       "    </tr>\n",
       "    <tr>\n",
       "      <th>58733</th>\n",
       "      <td>ENSG00000277475</td>\n",
       "      <td>0</td>\n",
       "      <td>0</td>\n",
       "      <td>0</td>\n",
       "      <td>2</td>\n",
       "      <td>0</td>\n",
       "      <td>1</td>\n",
       "    </tr>\n",
       "    <tr>\n",
       "      <th>58734</th>\n",
       "      <td>ENSG00000268674</td>\n",
       "      <td>0</td>\n",
       "      <td>0</td>\n",
       "      <td>0</td>\n",
       "      <td>0</td>\n",
       "      <td>0</td>\n",
       "      <td>0</td>\n",
       "    </tr>\n",
       "  </tbody>\n",
       "</table>\n",
       "<p>58735 rows × 7 columns</p>\n",
       "</div>"
      ],
      "text/plain": [
       "                Geneid  MC72_1  MC72_2  MC72_5  MEL72_2  MEL72_4  MEL72_5\n",
       "0      ENSG00000223972       6       2       8       15        8        5\n",
       "1      ENSG00000227232      60      32      35       44       33       39\n",
       "2      ENSG00000278267       6       4       2        4        4        4\n",
       "3      ENSG00000243485       0       0       0        4        0        1\n",
       "4      ENSG00000284332       0       0       0        0        0        0\n",
       "...                ...     ...     ...     ...      ...      ...      ...\n",
       "58730  ENSG00000271254     249     116     181      221      102      230\n",
       "58731  ENSG00000275405       2       0       1        0        0        0\n",
       "58732  ENSG00000275987       0       0       0        0        0        0\n",
       "58733  ENSG00000277475       0       0       0        2        0        1\n",
       "58734  ENSG00000268674       0       0       0        0        0        0\n",
       "\n",
       "[58735 rows x 7 columns]"
      ]
     },
     "execution_count": 67,
     "metadata": {},
     "output_type": "execute_result"
    }
   ],
   "source": [
    "data_DE = data.drop_duplicates('Geneid').dropna(how='any')\n",
    "%R -i data_DE\n",
    "\n",
    "data_DE"
   ]
  },
  {
   "cell_type": "markdown",
   "id": "670dace9-fddd-4916-aed7-43de1f57a7ef",
   "metadata": {},
   "source": [
    "Gán Geneid làm rownames cho count matrix"
   ]
  },
  {
   "cell_type": "code",
   "execution_count": 68,
   "id": "ea0880a9-3854-45f1-8680-0d1882a39ad6",
   "metadata": {},
   "outputs": [],
   "source": [
    "%%R\n",
    "rownames(data_DE) <- data_DE$Geneid\n",
    "data_DE$Geneid <- NULL"
   ]
  },
  {
   "cell_type": "markdown",
   "id": "68d5375f-b2b7-408d-b538-9090ae7236e9",
   "metadata": {},
   "source": [
    "**Thực hiện phân tích DESeq2**  \n",
    "Trong đó:  \n",
    "32111 gene được xét có ít nhất 1 reads trở lên  \n",
    "Tiêu chí lọc gene khác biệt biểu hiện dựa trên p-value đã hiệu chỉnh (FDR < 10%) cho kết quả:  \n",
    "-1015 gene (3,2%) tăng biểu hiện với nhóm điều trị (LFC > 0), cho thấy G1 có tác dụng làm tăng sự biểu hiện của một nhóm gene nhất định.  \n",
    "-642 gene (2%) giảm biểu hiện với nhóm điều trị (LFC < 0), phản ánh một số gene bị ức chế hoặc giảm hoạt động khi bị điều trị bằng G1.  \n",
    "-Không có gen ngoại lai (outliner) trong quá trình phân tích, điều này cho thấy sự ổn định và chất lượng của bộ dữ liệu thu được từ RNA-seq.  \n",
    "-> Trong 32,111 gene, có khoảng 1,657 gene (5.2%) được xác định là khác biệt biểu hiện có ý nghĩa thống kê (DEGs)  \n"
   ]
  },
  {
   "cell_type": "code",
   "execution_count": 71,
   "id": "6765d29c-c85b-4782-aef4-790e66a0532c",
   "metadata": {},
   "outputs": [
    {
     "name": "stdout",
     "output_type": "stream",
     "text": [
      "\n",
      "out of 32111 with nonzero total read count\n",
      "adjusted p-value < 0.1\n",
      "LFC > 0 (up)       : 1015, 3.2%\n",
      "LFC < 0 (down)     : 642, 2%\n",
      "outliers [1]       : 0, 0%\n",
      "low counts [2]     : 17862, 56%\n",
      "(mean count < 14)\n",
      "[1] see 'cooksCutoff' argument of ?results\n",
      "[2] see 'independentFiltering' argument of ?results\n",
      "\n"
     ]
    },
    {
     "data": {
      "text/plain": [
       "estimating size factors\n",
       "estimating dispersions\n",
       "gene-wise dispersion estimates\n",
       "mean-dispersion relationship\n",
       "final dispersion estimates\n",
       "fitting model and testing\n"
      ]
     },
     "metadata": {},
     "output_type": "display_data"
    }
   ],
   "source": [
    "%%R\n",
    "dds <- DESeqDataSetFromMatrix(\n",
    "    countData = data_DE,\n",
    "    colData = colData,\n",
    "    design = ~ condition\n",
    ")\n",
    "dds <- DESeq(dds)\n",
    "res <- results(dds)\n",
    "summary(res)"
   ]
  },
  {
   "cell_type": "markdown",
   "id": "55b0992f-55f7-4c22-8d46-0506e153650f",
   "metadata": {},
   "source": [
    "Biểu đồ MA-plot trực quan hóa sự thay đổi biểu hiện giữa nhóm treat và control.  \n",
    "Trục X: Mean of normalized counts – Thể hiện mức độ biểu hiện trung bình của gen trong tất cả các mẫu (cả nhóm treat và control).  \n",
    "Trục Y: log2 fold change – Thể hiện sự thay đổi biểu hiện giữa nhóm điều trị và nhóm đối chứng. Nếu giá trị log2 fold change lớn hơn 0, có nghĩa là gene tăng biểu hiện trong nhóm điều trị, còn nếu nhỏ hơn 0 thì gene giảm biểu hiện."
   ]
  },
  {
   "cell_type": "code",
   "execution_count": 73,
   "id": "83f5c241-2e8d-4a5a-9e19-0f73eff6b0ed",
   "metadata": {},
   "outputs": [
    {
     "data": {
      "image/png": "[encoded data removed]",
      "text/plain": [
       "<IPython.core.display.Image object>"
      ]
     },
     "metadata": {},
     "output_type": "display_data"
    }
   ],
   "source": [
    "%%R\n",
    "plotMA(res, ylim = c(-5,5))"
   ]
  },
  {
   "cell_type": "markdown",
   "id": "40db2f3c-5c1d-45aa-85ad-07e3ffb3c447",
   "metadata": {},
   "source": [
    "**Kết quả từ MA-plot:**    \n",
    "Các điểm xám: Đại diện cho gene không có sự thay đổi biểu hiện có ý nghĩa thống kê giữa nhóm điều trị và nhóm đối chứng.  \n",
    "Các điểm xanh: Đại diện cho các gene có sự thay đổi biểu hiện vượt qua ngưỡng kiểm định và cho thấy những biến đổi liên quan đến tác động của G1 trên tế bào ung thư vú.  \n",
    "Tính đối xứng của MA-plot: Biểu đồ không cho thấy sự lệch lớn trong sự thay đổi giữa hai nhóm chứng tỏ sự thay đổi biểu hiện đồng đều giữa các gene.  \n",
    "    "
   ]
  },
  {
   "cell_type": "markdown",
   "id": "02cfa401-816e-4bc4-81c0-805c98276790",
   "metadata": {},
   "source": [
    "**Kết luận:**  \n",
    "Sự thay đổi biểu hiện gene: Việc điều trị tế bào MCF-7 bằng G1 dẫn đến sự thay đổi rõ rệt biểu hiện của một số gene khiến chúng bị ức chế hoặc tăng biểu hiện đã chứng minh GPER có tác động đến tế bào ung thư vú, mở ra những hướng nghiên cứu mới về phương pháp điều trị ung thư dựa trên sự điền hòa GPER.  \n",
    "Các gene vượt ngưỡng kiểm định là các đối tượng xác định nghiên cứu để cải thiện phương pháp chẩn đoán và điều trị ung thư vú.   \n",
    "**Hướng nghiên cứu đề xuất:**  \n",
    "Nghiên cứu và thử nghiệm lâm sàng để kiểm chứng các gene mục tiêu được phát hiện trong nghiên cứu này để xác nhận hiệu quả điều trị của các liệu pháp nhắm đến GPER đối với ung thư vú, mở ra hướng điều trị mới trong y học."
   ]
  },
  {
   "cell_type": "code",
   "execution_count": null,
   "id": "01452d7b-0897-471e-bc1c-5eb5a082945d",
   "metadata": {},
   "outputs": [],
   "source": []
  }
 ],
 "metadata": {
  "kernelspec": {
   "display_name": "Python 3 (ipykernel)",
   "language": "python",
   "name": "python3"
  },
  "language_info": {
   "codemirror_mode": {
    "name": "ipython",
    "version": 3
   },
   "file_extension": ".py",
   "mimetype": "text/x-python",
   "name": "python",
   "nbconvert_exporter": "python",
   "pygments_lexer": "ipython3",
   "version": "3.13.5"
  }
 },
 "nbformat": 4,
 "nbformat_minor": 5
}
